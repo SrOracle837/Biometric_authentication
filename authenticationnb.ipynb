{
 "cells": [
  {
   "cell_type": "code",
   "execution_count": 4,
   "id": "695737c7",
   "metadata": {},
   "outputs": [],
   "source": [
    "import pickle\n",
    "import numpy as np"
   ]
  },
  {
   "cell_type": "code",
   "execution_count": 5,
   "id": "0be8b1af",
   "metadata": {},
   "outputs": [],
   "source": [
    "def retrieve(filename):\n",
    "    with open(filename, 'rb') as f:\n",
    "        vault = pickle.load(f)\n",
    "\n",
    "    return vault"
   ]
  },
  {
   "cell_type": "code",
   "execution_count": 6,
   "id": "1b8c6f1e",
   "metadata": {},
   "outputs": [],
   "source": [
    "def auth(og_vault_path, test_vault_path):\n",
    "    # Retrieve from the vault\n",
    "    og_vault = retrieve(og_vault_path)\n",
    "#     print('OG vault : ', og_vault)\n",
    "\n",
    "    test_vault = retrieve(test_vault_path)\n",
    "#     print('Test vault : ', test_vault)\n",
    "    # Compare the stored polynomial coefficients with the user's coefficients\n",
    "    threshold = 0.1\n",
    "    difference = np.abs(og_vault - test_vault)\n",
    "    auth_result = 10\n",
    "    if np.max(difference) < threshold:\n",
    "        # print('Authentication successful')\n",
    "        auth_result=1\n",
    "    else:\n",
    "        # print('Authentication failed')\n",
    "        auth_result=0\n",
    "\n",
    "    return auth_result"
   ]
  },
  {
   "cell_type": "code",
   "execution_count": null,
   "id": "4d35ce9d",
   "metadata": {},
   "outputs": [],
   "source": []
  },
  {
   "cell_type": "code",
   "execution_count": null,
   "id": "c759acc3",
   "metadata": {},
   "outputs": [],
   "source": []
  },
  {
   "cell_type": "code",
   "execution_count": null,
   "id": "d45e7197",
   "metadata": {},
   "outputs": [],
   "source": []
  }
 ],
 "metadata": {
  "kernelspec": {
   "display_name": "Python 3 (ipykernel)",
   "language": "python",
   "name": "python3"
  },
  "language_info": {
   "codemirror_mode": {
    "name": "ipython",
    "version": 3
   },
   "file_extension": ".py",
   "mimetype": "text/x-python",
   "name": "python",
   "nbconvert_exporter": "python",
   "pygments_lexer": "ipython3",
   "version": "3.10.11"
  }
 },
 "nbformat": 4,
 "nbformat_minor": 5
}
