{
 "cells": [
  {
   "cell_type": "code",
   "execution_count": 1,
   "id": "b2afde4c",
   "metadata": {},
   "outputs": [],
   "source": [
    "# !pip install import-ipynb"
   ]
  },
  {
   "cell_type": "code",
   "execution_count": 2,
   "id": "2aca49b7",
   "metadata": {},
   "outputs": [],
   "source": [
    "# import import_ipynb\n",
    "# import authenticationnb\n",
    "# import vault_generation\n",
    "import os"
   ]
  },
  {
   "cell_type": "code",
   "execution_count": 3,
   "id": "70fccb03",
   "metadata": {},
   "outputs": [],
   "source": [
    "# from prf import *\n",
    "# from authentication import *\n",
    "# import os"
   ]
  },
  {
   "cell_type": "code",
   "execution_count": 4,
   "id": "03b0fa42",
   "metadata": {},
   "outputs": [],
   "source": [
    "##first method - using the same print for og and test\n",
    "\n",
    "# filepath = 'CrossMatch_Sample_DB'\n",
    "# files = [file for file in os.listdir(filepath)]\n",
    "# accuracy_dict = {}\n",
    "# for i in range(51):\n",
    "#     set8 = files[:8]\n",
    "#     print(len(set8))\n",
    "#     files = files[8:]\n",
    "#     set8_acc = []\n",
    "#     for file in set8:\n",
    "#         og_vault_path = vault_gen(f'CrossMatch_Sample_DB/{file}', 0)      #creating vault\n",
    "#         test_vault_path = vault_gen(f'CrossMatch_Sample_DB/{file}', 1)      #testing vault\n",
    "#         result = auth(og_vault_path, test_vault_path)\n",
    "#         set8_acc.append(result)\n",
    "#     accuracy_dict[f'Set_{i}'] = sum(set8_acc)/8 "
   ]
  },
  {
   "cell_type": "code",
   "execution_count": 7,
   "id": "1d05a41c",
   "metadata": {},
   "outputs": [
    {
     "name": "stdout",
     "output_type": "stream",
     "text": [
      "8\n",
      "8\n",
      "8\n",
      "8\n",
      "8\n",
      "8\n",
      "8\n",
      "8\n",
      "8\n",
      "8\n",
      "8\n",
      "8\n",
      "8\n",
      "8\n",
      "8\n",
      "8\n",
      "8\n",
      "8\n",
      "8\n",
      "8\n",
      "8\n",
      "8\n",
      "8\n",
      "8\n",
      "8\n",
      "8\n",
      "8\n",
      "8\n",
      "8\n",
      "8\n",
      "8\n",
      "8\n",
      "8\n",
      "8\n",
      "8\n",
      "8\n",
      "8\n",
      "8\n",
      "8\n",
      "8\n",
      "8\n",
      "8\n",
      "8\n",
      "8\n",
      "8\n",
      "8\n",
      "8\n",
      "8\n",
      "8\n",
      "8\n",
      "8\n"
     ]
    }
   ],
   "source": [
    "##second method - popping only the first as og and rest as test\n",
    "\n",
    "filepath = 'CrossMatch_Sample_DB'\n",
    "files = [file for file in os.listdir(filepath)]\n",
    "accuracy_dict = {}\n",
    "auth_dict = {}\n",
    "for i in range(51):\n",
    "    set8 = files[:8]\n",
    "#     print(len(set8))\n",
    "    files = files[8:]\n",
    "    set_acc = []\n",
    "    registered_print = set8.pop(0)\n",
    "    og_vault_path = vault_gen(f'CrossMatch_Sample_DB/{registered_print}', 0)      #creating vault\n",
    "    for file in set8:\n",
    "        test_vault_path = vault_gen(f'CrossMatch_Sample_DB/{file}', 1)      #testing vault\n",
    "        result = auth(og_vault_path, test_vault_path)\n",
    "        set_acc.append(result)\n",
    "    auth_dict[f'Set_{i}'] = set_acc\n",
    "    accuracy_dict[f'Set_{i}'] = sum(set_acc)/7"
   ]
  },
  {
   "cell_type": "code",
   "execution_count": 13,
   "id": "ffeb8cea",
   "metadata": {},
   "outputs": [
    {
     "data": {
      "text/plain": [
       "0.7366946778711485"
      ]
     },
     "execution_count": 13,
     "metadata": {},
     "output_type": "execute_result"
    }
   ],
   "source": [
    "sum(list(accuracy_dict.values()))/len(accuracy_dict)"
   ]
  },
  {
   "cell_type": "code",
   "execution_count": 22,
   "id": "498c4bce",
   "metadata": {},
   "outputs": [],
   "source": [
    "%run authenticationnb.ipynb\n",
    "%run vault_generation.ipynb"
   ]
  },
  {
   "cell_type": "code",
   "execution_count": 4,
   "id": "f6e66758",
   "metadata": {
    "scrolled": false
   },
   "outputs": [
    {
     "name": "stdout",
     "output_type": "stream",
     "text": [
      "popping print :  0\n",
      "registered_print :  012_3_1.tif\n",
      "Unexpected exception formatting exception. Falling back to standard exception\n"
     ]
    },
    {
     "name": "stderr",
     "output_type": "stream",
     "text": [
      "Traceback (most recent call last):\n",
      "  File \"C:\\Users\\Urmi\\AppData\\Local\\Programs\\Python\\Python310\\lib\\site-packages\\IPython\\core\\interactiveshell.py\", line 3508, in run_code\n",
      "    exec(code_obj, self.user_global_ns, self.user_ns)\n",
      "  File \"C:\\Users\\Urmi\\AppData\\Local\\Temp\\ipykernel_39860\\4223841636.py\", line 21, in <module>\n",
      "    test_vault_path = vault_gen(f'CrossMatch_Sample_DB/{file}', 1)      #testing vault\n",
      "  File \"C:\\Users\\Urmi\\AppData\\Local\\Temp\\ipykernel_39860\\2848676585.py\", line -1, in vault_gen\n",
      "KeyboardInterrupt\n",
      "\n",
      "During handling of the above exception, another exception occurred:\n",
      "\n",
      "Traceback (most recent call last):\n",
      "  File \"C:\\Users\\Urmi\\AppData\\Local\\Programs\\Python\\Python310\\lib\\site-packages\\IPython\\core\\interactiveshell.py\", line 2105, in showtraceback\n",
      "    stb = self.InteractiveTB.structured_traceback(\n",
      "  File \"C:\\Users\\Urmi\\AppData\\Local\\Programs\\Python\\Python310\\lib\\site-packages\\IPython\\core\\ultratb.py\", line 1396, in structured_traceback\n",
      "    return FormattedTB.structured_traceback(\n",
      "  File \"C:\\Users\\Urmi\\AppData\\Local\\Programs\\Python\\Python310\\lib\\site-packages\\IPython\\core\\ultratb.py\", line 1287, in structured_traceback\n",
      "    return VerboseTB.structured_traceback(\n",
      "  File \"C:\\Users\\Urmi\\AppData\\Local\\Programs\\Python\\Python310\\lib\\site-packages\\IPython\\core\\ultratb.py\", line 1140, in structured_traceback\n",
      "    formatted_exception = self.format_exception_as_a_whole(etype, evalue, etb, number_of_lines_of_context,\n",
      "  File \"C:\\Users\\Urmi\\AppData\\Local\\Programs\\Python\\Python310\\lib\\site-packages\\IPython\\core\\ultratb.py\", line 1055, in format_exception_as_a_whole\n",
      "    frames.append(self.format_record(record))\n",
      "  File \"C:\\Users\\Urmi\\AppData\\Local\\Programs\\Python\\Python310\\lib\\site-packages\\IPython\\core\\ultratb.py\", line 955, in format_record\n",
      "    frame_info.lines, Colors, self.has_colors, lvals\n",
      "  File \"C:\\Users\\Urmi\\AppData\\Local\\Programs\\Python\\Python310\\lib\\site-packages\\IPython\\core\\ultratb.py\", line 778, in lines\n",
      "    return self._sd.lines\n",
      "  File \"C:\\Users\\Urmi\\AppData\\Local\\Programs\\Python\\Python310\\lib\\site-packages\\stack_data\\utils.py\", line 144, in cached_property_wrapper\n",
      "    value = obj.__dict__[self.func.__name__] = self.func(obj)\n",
      "  File \"C:\\Users\\Urmi\\AppData\\Local\\Programs\\Python\\Python310\\lib\\site-packages\\stack_data\\core.py\", line 734, in lines\n",
      "    pieces = self.included_pieces\n",
      "  File \"C:\\Users\\Urmi\\AppData\\Local\\Programs\\Python\\Python310\\lib\\site-packages\\stack_data\\utils.py\", line 144, in cached_property_wrapper\n",
      "    value = obj.__dict__[self.func.__name__] = self.func(obj)\n",
      "  File \"C:\\Users\\Urmi\\AppData\\Local\\Programs\\Python\\Python310\\lib\\site-packages\\stack_data\\core.py\", line 681, in included_pieces\n",
      "    pos = scope_pieces.index(self.executing_piece)\n",
      "  File \"C:\\Users\\Urmi\\AppData\\Local\\Programs\\Python\\Python310\\lib\\site-packages\\stack_data\\utils.py\", line 144, in cached_property_wrapper\n",
      "    value = obj.__dict__[self.func.__name__] = self.func(obj)\n",
      "  File \"C:\\Users\\Urmi\\AppData\\Local\\Programs\\Python\\Python310\\lib\\site-packages\\stack_data\\core.py\", line 660, in executing_piece\n",
      "    return only(\n",
      "  File \"C:\\Users\\Urmi\\AppData\\Local\\Programs\\Python\\Python310\\lib\\site-packages\\executing\\executing.py\", line 190, in only\n",
      "    raise NotOneValueFound('Expected one value, found 0')\n",
      "executing.executing.NotOneValueFound: Expected one value, found 0\n"
     ]
    }
   ],
   "source": [
    "#third method - pop each of the 8 prints for og and rest for test respectively\n",
    "\n",
    "filepath = 'CrossMatch_Sample_DB'\n",
    "\n",
    "final_acc_dict = {}\n",
    "final_auth_dict = {}\n",
    "\n",
    "for j in range(8):\n",
    "    files = [file for file in os.listdir(filepath)]\n",
    "    accuracy_dict = {}\n",
    "    auth_dict = {}\n",
    "    print(\"popping print : \", j)\n",
    "    for i in range(51):\n",
    "        set8 = files[:8]\n",
    "        files = files[8:]\n",
    "        set_acc = []\n",
    "        registered_print = set8.pop(j)\n",
    "        print(\"registered_print : \",registered_print)\n",
    "        og_vault_path = vault_gen(f'CrossMatch_Sample_DB/{registered_print}', 0)      #creating vault\n",
    "        for file in set8:\n",
    "            test_vault_path = vault_gen(f'CrossMatch_Sample_DB/{file}', 1)      #testing vault\n",
    "            result = auth(og_vault_path, test_vault_path)\n",
    "            print(\"compared with print : \",file)\n",
    "            set_acc.append(result)\n",
    "        auth_dict[f'Set_{i}'] = set_acc\n",
    "        print(auth_dict)\n",
    "        accuracy_dict[f'Set_{i}'] = sum(set_acc)/7\n",
    "        print(accuracy_dict)\n",
    "    final_acc_dict[f'PoppedPrint_{j}'] = accuracy_dict\n",
    "    final_auth_dict[f'PoppedPrint_{j}'] = auth_dict"
   ]
  },
  {
   "cell_type": "code",
   "execution_count": 8,
   "id": "871ea5e9",
   "metadata": {},
   "outputs": [
    {
     "name": "stdout",
     "output_type": "stream",
     "text": [
      "{'PoppedPrint_0': {'Set_0': 0.7142857142857143, 'Set_1': 0.8571428571428571, 'Set_2': 0.7142857142857143, 'Set_3': 0.2857142857142857, 'Set_4': 0.42857142857142855, 'Set_5': 0.2857142857142857, 'Set_6': 0.5714285714285714, 'Set_7': 0.2857142857142857, 'Set_8': 0.14285714285714285, 'Set_9': 0.2857142857142857, 'Set_10': 0.7142857142857143, 'Set_11': 0.42857142857142855, 'Set_12': 0.2857142857142857, 'Set_13': 0.14285714285714285, 'Set_14': 0.2857142857142857, 'Set_15': 0.2857142857142857, 'Set_16': 0.42857142857142855, 'Set_17': 0.0, 'Set_18': 0.7142857142857143, 'Set_19': 0.7142857142857143, 'Set_20': 0.42857142857142855, 'Set_21': 0.2857142857142857, 'Set_22': 0.42857142857142855, 'Set_23': 0.7142857142857143, 'Set_24': 0.14285714285714285, 'Set_25': 0.5714285714285714, 'Set_26': 0.42857142857142855, 'Set_27': 0.42857142857142855, 'Set_28': 0.7142857142857143, 'Set_29': 0.5714285714285714, 'Set_30': 0.0, 'Set_31': 0.7142857142857143, 'Set_32': 0.7142857142857143, 'Set_33': 0.2857142857142857, 'Set_34': 0.8571428571428571, 'Set_35': 0.5714285714285714, 'Set_36': 0.42857142857142855, 'Set_37': 0.2857142857142857, 'Set_38': 0.42857142857142855, 'Set_39': 0.42857142857142855, 'Set_40': 0.42857142857142855, 'Set_41': 0.0, 'Set_42': 0.2857142857142857, 'Set_43': 0.14285714285714285, 'Set_44': 0.5714285714285714, 'Set_45': 0.2857142857142857, 'Set_46': 0.2857142857142857, 'Set_47': 0.8571428571428571, 'Set_48': 0.7142857142857143, 'Set_49': 0.5714285714285714, 'Set_50': 0.14285714285714285}, 'PoppedPrint_1': {'Set_0': 0.5714285714285714, 'Set_1': 0.42857142857142855, 'Set_2': 0.5714285714285714, 'Set_3': 0.2857142857142857, 'Set_4': 0.14285714285714285, 'Set_5': 0.8571428571428571, 'Set_6': 0.42857142857142855, 'Set_7': 0.14285714285714285, 'Set_8': 0.42857142857142855, 'Set_9': 0.5714285714285714, 'Set_10': 0.42857142857142855, 'Set_11': 0.14285714285714285, 'Set_12': 0.2857142857142857, 'Set_13': 0.42857142857142855, 'Set_14': 0.5714285714285714, 'Set_15': 0.42857142857142855, 'Set_16': 0.5714285714285714, 'Set_17': 0.2857142857142857, 'Set_18': 0.7142857142857143, 'Set_19': 0.8571428571428571, 'Set_20': 0.2857142857142857, 'Set_21': 0.2857142857142857, 'Set_22': 0.14285714285714285, 'Set_23': 0.42857142857142855, 'Set_24': 0.7142857142857143, 'Set_25': 0.0, 'Set_26': 0.5714285714285714, 'Set_27': 0.42857142857142855, 'Set_28': 0.42857142857142855, 'Set_29': 0.42857142857142855, 'Set_30': 0.8571428571428571, 'Set_31': 0.14285714285714285, 'Set_32': 0.42857142857142855, 'Set_33': 0.14285714285714285, 'Set_34': 0.5714285714285714, 'Set_35': 0.14285714285714285, 'Set_36': 0.14285714285714285, 'Set_37': 0.0, 'Set_38': 0.42857142857142855, 'Set_39': 0.2857142857142857, 'Set_40': 0.7142857142857143, 'Set_41': 0.2857142857142857, 'Set_42': 0.14285714285714285, 'Set_43': 0.42857142857142855, 'Set_44': 0.5714285714285714, 'Set_45': 0.2857142857142857, 'Set_46': 0.14285714285714285, 'Set_47': 0.2857142857142857, 'Set_48': 0.0, 'Set_49': 0.7142857142857143, 'Set_50': 0.14285714285714285}, 'PoppedPrint_2': {'Set_0': 0.7142857142857143, 'Set_1': 1.0, 'Set_2': 0.5714285714285714, 'Set_3': 0.2857142857142857, 'Set_4': 0.42857142857142855, 'Set_5': 0.2857142857142857, 'Set_6': 0.5714285714285714, 'Set_7': 0.42857142857142855, 'Set_8': 0.14285714285714285, 'Set_9': 0.5714285714285714, 'Set_10': 0.42857142857142855, 'Set_11': 0.42857142857142855, 'Set_12': 0.7142857142857143, 'Set_13': 0.42857142857142855, 'Set_14': 0.14285714285714285, 'Set_15': 0.7142857142857143, 'Set_16': 0.5714285714285714, 'Set_17': 0.14285714285714285, 'Set_18': 0.7142857142857143, 'Set_19': 0.7142857142857143, 'Set_20': 0.2857142857142857, 'Set_21': 0.2857142857142857, 'Set_22': 0.8571428571428571, 'Set_23': 0.42857142857142855, 'Set_24': 0.7142857142857143, 'Set_25': 0.5714285714285714, 'Set_26': 0.14285714285714285, 'Set_27': 0.14285714285714285, 'Set_28': 0.5714285714285714, 'Set_29': 0.5714285714285714, 'Set_30': 0.42857142857142855, 'Set_31': 0.42857142857142855, 'Set_32': 0.2857142857142857, 'Set_33': 0.2857142857142857, 'Set_34': 0.7142857142857143, 'Set_35': 0.42857142857142855, 'Set_36': 0.14285714285714285, 'Set_37': 0.42857142857142855, 'Set_38': 0.42857142857142855, 'Set_39': 0.14285714285714285, 'Set_40': 0.42857142857142855, 'Set_41': 0.14285714285714285, 'Set_42': 0.14285714285714285, 'Set_43': 0.7142857142857143, 'Set_44': 0.42857142857142855, 'Set_45': 0.42857142857142855, 'Set_46': 0.8571428571428571, 'Set_47': 0.7142857142857143, 'Set_48': 0.8571428571428571, 'Set_49': 0.5714285714285714, 'Set_50': 0.14285714285714285}, 'PoppedPrint_3': {'Set_0': 0.8571428571428571, 'Set_1': 0.7142857142857143, 'Set_2': 0.7142857142857143, 'Set_3': 0.14285714285714285, 'Set_4': 0.2857142857142857, 'Set_5': 0.2857142857142857, 'Set_6': 0.0, 'Set_7': 0.5714285714285714, 'Set_8': 0.2857142857142857, 'Set_9': 0.5714285714285714, 'Set_10': 0.42857142857142855, 'Set_11': 0.5714285714285714, 'Set_12': 0.5714285714285714, 'Set_13': 0.2857142857142857, 'Set_14': 0.2857142857142857, 'Set_15': 0.2857142857142857, 'Set_16': 0.14285714285714285, 'Set_17': 0.0, 'Set_18': 0.14285714285714285, 'Set_19': 0.7142857142857143, 'Set_20': 0.2857142857142857, 'Set_21': 0.14285714285714285, 'Set_22': 0.2857142857142857, 'Set_23': 0.42857142857142855, 'Set_24': 0.5714285714285714, 'Set_25': 0.7142857142857143, 'Set_26': 0.14285714285714285, 'Set_27': 0.42857142857142855, 'Set_28': 0.5714285714285714, 'Set_29': 0.7142857142857143, 'Set_30': 0.42857142857142855, 'Set_31': 0.8571428571428571, 'Set_32': 0.14285714285714285, 'Set_33': 0.5714285714285714, 'Set_34': 0.8571428571428571, 'Set_35': 0.5714285714285714, 'Set_36': 0.5714285714285714, 'Set_37': 0.14285714285714285, 'Set_38': 0.2857142857142857, 'Set_39': 0.42857142857142855, 'Set_40': 0.2857142857142857, 'Set_41': 0.2857142857142857, 'Set_42': 0.7142857142857143, 'Set_43': 0.42857142857142855, 'Set_44': 0.7142857142857143, 'Set_45': 0.2857142857142857, 'Set_46': 0.2857142857142857, 'Set_47': 0.7142857142857143, 'Set_48': 0.5714285714285714, 'Set_49': 0.5714285714285714, 'Set_50': 0.42857142857142855}, 'PoppedPrint_4': {'Set_0': 0.5714285714285714, 'Set_1': 0.5714285714285714, 'Set_2': 0.5714285714285714, 'Set_3': 0.42857142857142855, 'Set_4': 0.42857142857142855, 'Set_5': 0.42857142857142855, 'Set_6': 0.14285714285714285, 'Set_7': 0.2857142857142857, 'Set_8': 0.14285714285714285, 'Set_9': 0.0, 'Set_10': 0.14285714285714285, 'Set_11': 0.14285714285714285, 'Set_12': 0.42857142857142855, 'Set_13': 0.42857142857142855, 'Set_14': 0.0, 'Set_15': 0.0, 'Set_16': 0.2857142857142857, 'Set_17': 0.2857142857142857, 'Set_18': 0.7142857142857143, 'Set_19': 0.2857142857142857, 'Set_20': 0.0, 'Set_21': 0.14285714285714285, 'Set_22': 0.0, 'Set_23': 0.8571428571428571, 'Set_24': 0.7142857142857143, 'Set_25': 0.42857142857142855, 'Set_26': 0.5714285714285714, 'Set_27': 0.5714285714285714, 'Set_28': 0.7142857142857143, 'Set_29': 0.2857142857142857, 'Set_30': 0.42857142857142855, 'Set_31': 0.7142857142857143, 'Set_32': 0.2857142857142857, 'Set_33': 0.5714285714285714, 'Set_34': 1.0, 'Set_35': 0.8571428571428571, 'Set_36': 0.0, 'Set_37': 0.0, 'Set_38': 0.5714285714285714, 'Set_39': 0.14285714285714285, 'Set_40': 0.2857142857142857, 'Set_41': 0.5714285714285714, 'Set_42': 0.14285714285714285, 'Set_43': 0.42857142857142855, 'Set_44': 0.14285714285714285, 'Set_45': 0.2857142857142857, 'Set_46': 0.5714285714285714, 'Set_47': 0.7142857142857143, 'Set_48': 0.8571428571428571, 'Set_49': 0.14285714285714285, 'Set_50': 0.42857142857142855}, 'PoppedPrint_5': {'Set_0': 0.7142857142857143, 'Set_1': 0.5714285714285714, 'Set_2': 0.42857142857142855, 'Set_3': 0.14285714285714285, 'Set_4': 0.7142857142857143, 'Set_5': 0.7142857142857143, 'Set_6': 0.0, 'Set_7': 0.0, 'Set_8': 0.0, 'Set_9': 0.14285714285714285, 'Set_10': 0.2857142857142857, 'Set_11': 0.14285714285714285, 'Set_12': 0.7142857142857143, 'Set_13': 0.0, 'Set_14': 0.2857142857142857, 'Set_15': 0.2857142857142857, 'Set_16': 0.42857142857142855, 'Set_17': 0.0, 'Set_18': 0.8571428571428571, 'Set_19': 0.8571428571428571, 'Set_20': 0.14285714285714285, 'Set_21': 0.5714285714285714, 'Set_22': 0.14285714285714285, 'Set_23': 0.42857142857142855, 'Set_24': 0.5714285714285714, 'Set_25': 0.7142857142857143, 'Set_26': 0.7142857142857143, 'Set_27': 0.14285714285714285, 'Set_28': 0.5714285714285714, 'Set_29': 0.5714285714285714, 'Set_30': 0.42857142857142855, 'Set_31': 0.7142857142857143, 'Set_32': 0.14285714285714285, 'Set_33': 0.5714285714285714, 'Set_34': 0.2857142857142857, 'Set_35': 0.2857142857142857, 'Set_36': 0.42857142857142855, 'Set_37': 0.14285714285714285, 'Set_38': 0.14285714285714285, 'Set_39': 0.42857142857142855, 'Set_40': 0.7142857142857143, 'Set_41': 0.42857142857142855, 'Set_42': 0.42857142857142855, 'Set_43': 0.5714285714285714, 'Set_44': 0.8571428571428571, 'Set_45': 0.14285714285714285, 'Set_46': 0.7142857142857143, 'Set_47': 1.0, 'Set_48': 0.42857142857142855, 'Set_49': 0.14285714285714285, 'Set_50': 0.7142857142857143}, 'PoppedPrint_6': {'Set_0': 0.2857142857142857, 'Set_1': 0.5714285714285714, 'Set_2': 0.5714285714285714, 'Set_3': 0.7142857142857143, 'Set_4': 0.7142857142857143, 'Set_5': 0.5714285714285714, 'Set_6': 0.2857142857142857, 'Set_7': 0.7142857142857143, 'Set_8': 0.0, 'Set_9': 0.42857142857142855, 'Set_10': 0.2857142857142857, 'Set_11': 0.2857142857142857, 'Set_12': 0.5714285714285714, 'Set_13': 0.42857142857142855, 'Set_14': 0.2857142857142857, 'Set_15': 0.42857142857142855, 'Set_16': 0.42857142857142855, 'Set_17': 0.42857142857142855, 'Set_18': 0.7142857142857143, 'Set_19': 0.5714285714285714, 'Set_20': 0.42857142857142855, 'Set_21': 0.14285714285714285, 'Set_22': 0.14285714285714285, 'Set_23': 0.2857142857142857, 'Set_24': 0.7142857142857143, 'Set_25': 0.7142857142857143, 'Set_26': 0.14285714285714285, 'Set_27': 0.42857142857142855, 'Set_28': 0.2857142857142857, 'Set_29': 0.14285714285714285, 'Set_30': 0.7142857142857143, 'Set_31': 0.7142857142857143, 'Set_32': 0.5714285714285714, 'Set_33': 0.42857142857142855, 'Set_34': 0.7142857142857143, 'Set_35': 0.42857142857142855, 'Set_36': 0.0, 'Set_37': 0.2857142857142857, 'Set_38': 0.0, 'Set_39': 0.2857142857142857, 'Set_40': 0.7142857142857143, 'Set_41': 0.14285714285714285, 'Set_42': 0.14285714285714285, 'Set_43': 0.0, 'Set_44': 0.5714285714285714, 'Set_45': 0.2857142857142857, 'Set_46': 0.42857142857142855, 'Set_47': 0.7142857142857143, 'Set_48': 0.7142857142857143, 'Set_49': 0.5714285714285714, 'Set_50': 0.5714285714285714}, 'PoppedPrint_7': {'Set_0': 0.42857142857142855, 'Set_1': 0.7142857142857143, 'Set_2': 0.14285714285714285, 'Set_3': 0.2857142857142857, 'Set_4': 0.5714285714285714, 'Set_5': 0.2857142857142857, 'Set_6': 0.5714285714285714, 'Set_7': 0.42857142857142855, 'Set_8': 0.2857142857142857, 'Set_9': 0.5714285714285714, 'Set_10': 0.14285714285714285, 'Set_11': 0.42857142857142855, 'Set_12': 0.7142857142857143, 'Set_13': 0.7142857142857143, 'Set_14': 0.42857142857142855, 'Set_15': 0.14285714285714285, 'Set_16': 0.2857142857142857, 'Set_17': 0.0, 'Set_18': 0.5714285714285714, 'Set_19': 0.7142857142857143, 'Set_20': 0.42857142857142855, 'Set_21': 0.14285714285714285, 'Set_22': 0.2857142857142857, 'Set_23': 0.7142857142857143, 'Set_24': 0.14285714285714285, 'Set_25': 0.2857142857142857, 'Set_26': 0.42857142857142855, 'Set_27': 0.5714285714285714, 'Set_28': 0.42857142857142855, 'Set_29': 0.14285714285714285, 'Set_30': 0.14285714285714285, 'Set_31': 0.8571428571428571, 'Set_32': 0.8571428571428571, 'Set_33': 0.0, 'Set_34': 0.7142857142857143, 'Set_35': 0.14285714285714285, 'Set_36': 0.5714285714285714, 'Set_37': 0.42857142857142855, 'Set_38': 0.0, 'Set_39': 0.7142857142857143, 'Set_40': 0.14285714285714285, 'Set_41': 0.42857142857142855, 'Set_42': 0.2857142857142857, 'Set_43': 0.7142857142857143, 'Set_44': 0.14285714285714285, 'Set_45': 0.2857142857142857, 'Set_46': 0.42857142857142855, 'Set_47': 0.7142857142857143, 'Set_48': 0.7142857142857143, 'Set_49': 0.7142857142857143, 'Set_50': 0.2857142857142857}}\n"
     ]
    }
   ],
   "source": [
    "print(final_acc_dict)"
   ]
  },
  {
   "cell_type": "code",
   "execution_count": 14,
   "id": "413ff1cc",
   "metadata": {},
   "outputs": [
    {
     "name": "stdout",
     "output_type": "stream",
     "text": [
      "{'Set_0': 0.7142857142857143, 'Set_1': 0.8571428571428571, 'Set_2': 0.7142857142857143, 'Set_3': 0.2857142857142857, 'Set_4': 0.42857142857142855, 'Set_5': 0.2857142857142857, 'Set_6': 0.5714285714285714, 'Set_7': 0.2857142857142857, 'Set_8': 0.14285714285714285, 'Set_9': 0.2857142857142857, 'Set_10': 0.7142857142857143, 'Set_11': 0.42857142857142855, 'Set_12': 0.2857142857142857, 'Set_13': 0.14285714285714285, 'Set_14': 0.2857142857142857, 'Set_15': 0.2857142857142857, 'Set_16': 0.42857142857142855, 'Set_17': 0.0, 'Set_18': 0.7142857142857143, 'Set_19': 0.7142857142857143, 'Set_20': 0.42857142857142855, 'Set_21': 0.2857142857142857, 'Set_22': 0.42857142857142855, 'Set_23': 0.7142857142857143, 'Set_24': 0.14285714285714285, 'Set_25': 0.5714285714285714, 'Set_26': 0.42857142857142855, 'Set_27': 0.42857142857142855, 'Set_28': 0.7142857142857143, 'Set_29': 0.5714285714285714, 'Set_30': 0.0, 'Set_31': 0.7142857142857143, 'Set_32': 0.7142857142857143, 'Set_33': 0.2857142857142857, 'Set_34': 0.8571428571428571, 'Set_35': 0.5714285714285714, 'Set_36': 0.42857142857142855, 'Set_37': 0.2857142857142857, 'Set_38': 0.42857142857142855, 'Set_39': 0.42857142857142855, 'Set_40': 0.42857142857142855, 'Set_41': 0.0, 'Set_42': 0.2857142857142857, 'Set_43': 0.14285714285714285, 'Set_44': 0.5714285714285714, 'Set_45': 0.2857142857142857, 'Set_46': 0.2857142857142857, 'Set_47': 0.8571428571428571, 'Set_48': 0.7142857142857143, 'Set_49': 0.5714285714285714, 'Set_50': 0.14285714285714285}\n"
     ]
    }
   ],
   "source": [
    "print(final_acc_dict['PoppedPrint_0'])"
   ]
  },
  {
   "cell_type": "code",
   "execution_count": 15,
   "id": "34fa1c9b",
   "metadata": {},
   "outputs": [
    {
     "name": "stdout",
     "output_type": "stream",
     "text": [
      "{'Set_0': 0.5714285714285714, 'Set_1': 0.42857142857142855, 'Set_2': 0.5714285714285714, 'Set_3': 0.2857142857142857, 'Set_4': 0.14285714285714285, 'Set_5': 0.8571428571428571, 'Set_6': 0.42857142857142855, 'Set_7': 0.14285714285714285, 'Set_8': 0.42857142857142855, 'Set_9': 0.5714285714285714, 'Set_10': 0.42857142857142855, 'Set_11': 0.14285714285714285, 'Set_12': 0.2857142857142857, 'Set_13': 0.42857142857142855, 'Set_14': 0.5714285714285714, 'Set_15': 0.42857142857142855, 'Set_16': 0.5714285714285714, 'Set_17': 0.2857142857142857, 'Set_18': 0.7142857142857143, 'Set_19': 0.8571428571428571, 'Set_20': 0.2857142857142857, 'Set_21': 0.2857142857142857, 'Set_22': 0.14285714285714285, 'Set_23': 0.42857142857142855, 'Set_24': 0.7142857142857143, 'Set_25': 0.0, 'Set_26': 0.5714285714285714, 'Set_27': 0.42857142857142855, 'Set_28': 0.42857142857142855, 'Set_29': 0.42857142857142855, 'Set_30': 0.8571428571428571, 'Set_31': 0.14285714285714285, 'Set_32': 0.42857142857142855, 'Set_33': 0.14285714285714285, 'Set_34': 0.5714285714285714, 'Set_35': 0.14285714285714285, 'Set_36': 0.14285714285714285, 'Set_37': 0.0, 'Set_38': 0.42857142857142855, 'Set_39': 0.2857142857142857, 'Set_40': 0.7142857142857143, 'Set_41': 0.2857142857142857, 'Set_42': 0.14285714285714285, 'Set_43': 0.42857142857142855, 'Set_44': 0.5714285714285714, 'Set_45': 0.2857142857142857, 'Set_46': 0.14285714285714285, 'Set_47': 0.2857142857142857, 'Set_48': 0.0, 'Set_49': 0.7142857142857143, 'Set_50': 0.14285714285714285}\n"
     ]
    }
   ],
   "source": [
    "print(final_acc_dict['PoppedPrint_1'])"
   ]
  },
  {
   "cell_type": "code",
   "execution_count": 16,
   "id": "cf07308b",
   "metadata": {},
   "outputs": [],
   "source": [
    "list_avg_acc = []\n",
    "for item in final_acc_dict.values():\n",
    "    average_acc = sum(list(item.values()))/len(item)\n",
    "    list_avg_acc.append(average_acc)"
   ]
  },
  {
   "cell_type": "code",
   "execution_count": 17,
   "id": "a112c1a2",
   "metadata": {},
   "outputs": [
    {
     "data": {
      "text/plain": [
       "[0.4369747899159662,\n",
       " 0.38655462184873945,\n",
       " 0.464985994397759,\n",
       " 0.4369747899159663,\n",
       " 0.38655462184873945,\n",
       " 0.4229691876750699,\n",
       " 0.42577030812324923,\n",
       " 0.4173669467787114]"
      ]
     },
     "execution_count": 17,
     "metadata": {},
     "output_type": "execute_result"
    }
   ],
   "source": [
    "list_avg_acc"
   ]
  },
  {
   "cell_type": "code",
   "execution_count": 18,
   "id": "7519e67e",
   "metadata": {},
   "outputs": [
    {
     "name": "stdout",
     "output_type": "stream",
     "text": [
      "0.4222689075630251\n"
     ]
    }
   ],
   "source": [
    "print(sum(list_avg_acc)/len(list_avg_acc))"
   ]
  },
  {
   "cell_type": "code",
   "execution_count": null,
   "id": "8b87543f",
   "metadata": {},
   "outputs": [],
   "source": []
  },
  {
   "cell_type": "code",
   "execution_count": 23,
   "id": "3cc24a37",
   "metadata": {},
   "outputs": [],
   "source": [
    "##fourth method - popping only the first as og and rest as test after imgaug (second method after imgaug)\n",
    "\n",
    "filepath = 'Augmented_CrossMatch_Sample_DB'\n",
    "files = [file for file in os.listdir(filepath)]\n",
    "accuracy_dict = {}\n",
    "auth_dict = {}\n",
    "for i in range(51):\n",
    "    set13 = files[:13]\n",
    "#     print(len(set8))\n",
    "    files = files[13:]\n",
    "    set_acc = []\n",
    "    registered_print = set13.pop(0)\n",
    "    og_vault_path = vault_gen(f'Augmented_CrossMatch_Sample_DB/{registered_print}', 0, True)      #creating vault\n",
    "    for file in set13:\n",
    "        test_vault_path = vault_gen(f'Augmented_CrossMatch_Sample_DB/{file}', 1, True)      #testing vault\n",
    "        result = auth(og_vault_path, test_vault_path)\n",
    "        set_acc.append(result)\n",
    "    auth_dict[f'Set_{i}'] = set_acc\n",
    "    accuracy_dict[f'Set_{i}'] = sum(set_acc)/12"
   ]
  },
  {
   "cell_type": "code",
   "execution_count": 32,
   "id": "1228eb8d",
   "metadata": {},
   "outputs": [],
   "source": [
    "c=1\n",
    "for item in auth_dict.values():\n",
    "    accuracy_dict[f'Set_{c}'] = sum(item)/12\n",
    "    c+=1"
   ]
  },
  {
   "cell_type": "code",
   "execution_count": 38,
   "id": "b8088ab8",
   "metadata": {},
   "outputs": [
    {
     "data": {
      "text/plain": [
       "0.5235805860805862"
      ]
     },
     "execution_count": 38,
     "metadata": {},
     "output_type": "execute_result"
    }
   ],
   "source": [
    "sum(list(accuracy_dict.values()))/len(accuracy_dict)"
   ]
  },
  {
   "cell_type": "code",
   "execution_count": 29,
   "id": "2bf2a812",
   "metadata": {},
   "outputs": [
    {
     "data": {
      "text/plain": [
       "{'Set_0': [1, 1, 1, 1, 1, 1, 1, 1, 0, 0, 0, 0],\n",
       " 'Set_1': [1, 1, 1, 0, 1, 0, 0, 0, 0, 1, 0, 0],\n",
       " 'Set_2': [1, 1, 1, 1, 1, 1, 1, 0, 0, 0, 1, 0],\n",
       " 'Set_3': [1, 1, 1, 1, 1, 1, 1, 0, 0, 1, 0, 0],\n",
       " 'Set_4': [1, 1, 1, 1, 1, 1, 1, 1, 0, 0, 1, 1],\n",
       " 'Set_5': [1, 1, 1, 1, 1, 1, 1, 0, 1, 0, 1, 1],\n",
       " 'Set_6': [1, 1, 1, 1, 0, 1, 1, 0, 1, 1, 0, 1],\n",
       " 'Set_7': [1, 1, 0, 0, 0, 0, 1, 0, 0, 0, 0, 1],\n",
       " 'Set_8': [1, 1, 1, 1, 1, 0, 1, 1, 0, 0, 0, 1],\n",
       " 'Set_9': [1, 1, 1, 0, 0, 0, 1, 0, 1, 0, 0, 0],\n",
       " 'Set_10': [1, 1, 1, 1, 1, 0, 0, 0, 0, 0, 0, 0],\n",
       " 'Set_11': [1, 1, 1, 1, 1, 1, 1, 0, 0, 0, 1, 0],\n",
       " 'Set_12': [0, 0, 1, 1, 1, 0, 1, 0, 0, 0, 0, 0],\n",
       " 'Set_13': [1, 1, 1, 0, 1, 1, 1, 0, 0, 0, 0, 0],\n",
       " 'Set_14': [1, 0, 0, 1, 0, 0, 1, 0, 0, 0, 0, 0],\n",
       " 'Set_15': [0, 1, 1, 1, 1, 0, 0, 0, 0, 0, 0, 0],\n",
       " 'Set_16': [1, 1, 1, 1, 1, 0, 1, 1, 1, 0, 0, 1],\n",
       " 'Set_17': [0, 1, 1, 1, 1, 1, 1, 0, 0, 1, 1, 0],\n",
       " 'Set_18': [0, 0, 0, 1, 1, 1, 1, 1, 0, 0, 1, 1],\n",
       " 'Set_19': [0, 1, 0, 1, 1, 1, 0, 0, 0, 0, 0, 0],\n",
       " 'Set_20': [1, 1, 0, 0, 0, 1, 0, 0, 0, 0, 0, 0],\n",
       " 'Set_21': [0, 1, 1, 0, 0, 0, 1, 0, 1, 0, 0, 0],\n",
       " 'Set_22': [1, 1, 1, 1, 0, 1, 1, 0, 0, 1, 0, 0],\n",
       " 'Set_23': [0, 1, 0, 1, 1, 0, 1, 0, 1, 0, 0, 0],\n",
       " 'Set_24': [1, 1, 1, 0, 1, 1, 1, 1, 1, 1, 1, 1],\n",
       " 'Set_25': [1, 1, 1, 1, 1, 1, 1, 0, 1, 0, 0, 0],\n",
       " 'Set_26': [1, 1, 1, 1, 1, 1, 0, 0, 0, 0, 0, 0],\n",
       " 'Set_27': [1, 0, 1, 1, 1, 1, 1, 0, 1, 0, 0, 0],\n",
       " 'Set_28': [1, 1, 1, 1, 1, 1, 1, 0, 0, 0, 0, 0],\n",
       " 'Set_29': [1, 1, 1, 1, 1, 1, 1, 0, 0, 0, 0, 0],\n",
       " 'Set_30': [0, 0, 0, 0, 0, 0, 0, 0, 0, 0, 0, 0],\n",
       " 'Set_31': [1, 1, 1, 1, 1, 1, 1, 0, 0, 0, 1, 0],\n",
       " 'Set_32': [1, 1, 1, 1, 1, 1, 1, 0, 1, 0, 0, 0],\n",
       " 'Set_33': [1, 1, 0, 0, 0, 0, 0, 0, 0, 0, 0, 0],\n",
       " 'Set_34': [1, 1, 1, 1, 0, 1, 1, 1, 1, 0, 1, 0],\n",
       " 'Set_35': [1, 1, 1, 1, 1, 0, 1, 0, 1, 0, 0, 1],\n",
       " 'Set_36': [1, 1, 1, 1, 1, 0, 0, 1, 0, 0, 0, 0],\n",
       " 'Set_37': [1, 1, 1, 1, 1, 0, 1, 0, 1, 1, 0, 0],\n",
       " 'Set_38': [0, 1, 0, 1, 1, 0, 1, 0, 0, 0, 1, 0],\n",
       " 'Set_39': [1, 1, 1, 1, 1, 0, 1, 1, 0, 0, 1, 1],\n",
       " 'Set_40': [1, 1, 1, 0, 1, 0, 1, 1, 0, 1, 0, 0],\n",
       " 'Set_41': [1, 1, 0, 1, 1, 0, 0, 0, 0, 0, 0, 0],\n",
       " 'Set_42': [0, 1, 0, 1, 0, 0, 1, 0, 0, 0, 1, 1],\n",
       " 'Set_43': [1, 1, 0, 1, 1, 0, 1, 0, 0, 0, 0, 0],\n",
       " 'Set_44': [1, 1, 0, 0, 0, 1, 0, 0, 0, 0, 0, 0],\n",
       " 'Set_45': [0, 1, 0, 0, 0, 1, 0, 0, 0, 0, 0, 0],\n",
       " 'Set_46': [1, 0, 1, 0, 1, 1, 1, 0, 0, 1, 0, 0],\n",
       " 'Set_47': [0, 0, 1, 0, 0, 0, 0, 0, 0, 0, 0, 0],\n",
       " 'Set_48': [1, 1, 1, 1, 1, 1, 1, 0, 0, 0, 0, 0],\n",
       " 'Set_49': [1, 1, 1, 1, 1, 1, 0, 1, 0, 0, 0, 0],\n",
       " 'Set_50': [1, 0, 1, 0, 0, 0, 1, 1, 1, 0, 0, 0]}"
      ]
     },
     "execution_count": 29,
     "metadata": {},
     "output_type": "execute_result"
    }
   ],
   "source": [
    "auth_dict"
   ]
  }
 ],
 "metadata": {
  "kernelspec": {
   "display_name": "Python 3 (ipykernel)",
   "language": "python",
   "name": "python3"
  },
  "language_info": {
   "codemirror_mode": {
    "name": "ipython",
    "version": 3
   },
   "file_extension": ".py",
   "mimetype": "text/x-python",
   "name": "python",
   "nbconvert_exporter": "python",
   "pygments_lexer": "ipython3",
   "version": "3.10.11"
  }
 },
 "nbformat": 4,
 "nbformat_minor": 5
}
