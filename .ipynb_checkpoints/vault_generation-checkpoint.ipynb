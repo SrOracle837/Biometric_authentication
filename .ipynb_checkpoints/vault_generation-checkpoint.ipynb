{
 "cells": [
  {
   "cell_type": "code",
   "execution_count": 1,
   "id": "377bc852",
   "metadata": {},
   "outputs": [],
   "source": [
    "import cv2\n",
    "import numpy as np\n",
    "import pickle\n",
    "import hashlib"
   ]
  },
  {
   "cell_type": "code",
   "execution_count": 2,
   "id": "bb4b14ed",
   "metadata": {},
   "outputs": [],
   "source": [
    "def gabor_filter(image, wavelength, orientation, kernel_size):\n",
    "    kernel = cv2.getGaborKernel((kernel_size, kernel_size), wavelength, orientation, kernel_size/3, 0.5, 0, ktype=cv2.CV_32F)\n",
    "    filtered = cv2.filter2D(image, cv2.CV_8UC1, kernel)\n",
    "    return filtered"
   ]
  },
  {
   "cell_type": "code",
   "execution_count": 3,
   "id": "cfe342a1",
   "metadata": {},
   "outputs": [],
   "source": [
    "def custom_prf(key, data, output_len):\n",
    "    concatenated = key + data\n",
    "\n",
    "    output = b''\n",
    "    while len(output) < output_len:\n",
    "        hash_value = hashlib.sha256(concatenated).digest()\n",
    "        output += hash_value\n",
    "        concatenated = hash_value\n",
    "\n",
    "    output = output[:output_len]\n",
    "\n",
    "    return output"
   ]
  },
  {
   "cell_type": "code",
   "execution_count": 4,
   "id": "cf7d6901",
   "metadata": {},
   "outputs": [],
   "source": [
    "def add_noise(features, key, noise_sd=0.1):\n",
    "    output_len = 256\n",
    "    noise = np.frombuffer(custom_prf(key, features, output_len), dtype=np.uint8)\n",
    "    noise = noise[:features.size]\n",
    "    noise = noise.reshape(features.shape) / 255.0 * noise_sd\n",
    "    return features + noise"
   ]
  },
  {
   "cell_type": "code",
   "execution_count": 5,
   "id": "6afd211e",
   "metadata": {},
   "outputs": [],
   "source": [
    "def store(vault, filename):\n",
    "    with open(filename, 'wb') as f:\n",
    "        pickle.dump(vault, f)"
   ]
  },
  {
   "cell_type": "code",
   "execution_count": 7,
   "id": "0aeccf31",
   "metadata": {},
   "outputs": [],
   "source": [
    "def vault_gen(image_path, testing):\n",
    "    image = cv2.imread(image_path, 0)\n",
    "    if testing:\n",
    "        mode = 'test'\n",
    "    else:\n",
    "        mode = 'og'\n",
    "    # Apply Gabor filter \n",
    "    wavelengths = [10, 20, 30, 40, 50, 60, 70, 80, 90, 100]\n",
    "    orientations = [0, 15, 30, 45, 60, 75, 90, 105, 120, 135, 150]\n",
    "    kernel_size = 9\n",
    "    features = []\n",
    "    final_values = []\n",
    "    for wavelength in wavelengths:\n",
    "        for orientation in orientations:\n",
    "            filtered = gabor_filter(image, wavelength, orientation, kernel_size)\n",
    "            features.append(filtered)\n",
    "            final_values.append((wavelength,orientation))\n",
    "\n",
    "    features = np.array(features)\n",
    "    # cv2.imwrite(f'{mode}_gabor_image_{image_path}.jpg', features[-4])\n",
    "    # print(f'gabor features for {image_path}',len(features[-4]))\n",
    "    # print(final_values[-4])\n",
    "\n",
    "    degree = 10\n",
    "    # Flatten the features and perform Lagrange interpolation to generate the polynomial coefficients\n",
    "    feature_data = np.array([f.flatten() for f in features])\n",
    "    coefficients = np.zeros(degree + 1)\n",
    "    for i in range(len(feature_data)):\n",
    "        term = feature_data[i]\n",
    "        for j in range(len(feature_data)):\n",
    "            if j != i:\n",
    "                term = term*((i - j) / (i - j))\n",
    "\n",
    "        m = 11\n",
    "        x = int(np.ceil(term.size / m))\n",
    "        diff = (x*11)-len(term)\n",
    "        term = np.append(term,[0 for i in range(diff)])\n",
    "        term = np.array(term).reshape((11, int(len(term)/11)))\n",
    "\n",
    "        term_sum = np.sum(term, axis=1)\n",
    "        coefficients += term_sum\n",
    "    coefficients /= np.max(coefficients)\n",
    "    # print('coeff : ', coefficients)\n",
    "\n",
    "    # Add PRF output to the polynomial coefficients\n",
    "    key = [100, 200, 300, 400, 1, 2, 3, 4, 5, 6, 7]\n",
    "    noisy_coefficients = add_noise(coefficients, key)\n",
    "    image_path = image_path[22:-4]\n",
    "    vault_path = f'./{mode}/{mode}_vault_{image_path}.pickle'\n",
    "    # Store the noisy coefficients in a vault\n",
    "    store(noisy_coefficients,vault_path)\n",
    "\n",
    "    return vault_path"
   ]
  },
  {
   "cell_type": "code",
   "execution_count": null,
   "id": "035e23d0",
   "metadata": {},
   "outputs": [],
   "source": []
  },
  {
   "cell_type": "code",
   "execution_count": null,
   "id": "d44699e0",
   "metadata": {},
   "outputs": [],
   "source": []
  },
  {
   "cell_type": "code",
   "execution_count": null,
   "id": "b52673a1",
   "metadata": {},
   "outputs": [],
   "source": []
  }
 ],
 "metadata": {
  "kernelspec": {
   "display_name": "Python 3 (ipykernel)",
   "language": "python",
   "name": "python3"
  },
  "language_info": {
   "codemirror_mode": {
    "name": "ipython",
    "version": 3
   },
   "file_extension": ".py",
   "mimetype": "text/x-python",
   "name": "python",
   "nbconvert_exporter": "python",
   "pygments_lexer": "ipython3",
   "version": "3.10.11"
  }
 },
 "nbformat": 4,
 "nbformat_minor": 5
}
